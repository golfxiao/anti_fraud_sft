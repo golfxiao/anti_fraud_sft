{
 "cells": [
  {
   "cell_type": "code",
   "execution_count": 2,
   "id": "ae7c177b-bb5f-4943-8ed8-cb5ea52709c0",
   "metadata": {},
   "outputs": [],
   "source": [
    "%load_ext tensorboard"
   ]
  },
  {
   "cell_type": "code",
   "execution_count": 2,
   "id": "8e83fef1-108a-459c-ade8-7d24dc517a33",
   "metadata": {},
   "outputs": [
    {
     "name": "stdout",
     "output_type": "stream",
     "text": [
      "total 16\n",
      "drwxrwxr-x 2 xiaoguanghua xiaoguanghua 4096 Aug 26 17:34 Aug26_17-31-30_ubuntu\n",
      "drwxrwxr-x 2 xiaoguanghua xiaoguanghua 4096 Aug 26 18:39 Aug26_18-07-16_ubuntu\n",
      "drwxrwxr-x 2 xiaoguanghua xiaoguanghua 4096 Aug 27 14:51 Aug27_14-49-19_ubuntu\n",
      "drwxrwxr-x 2 xiaoguanghua xiaoguanghua 4096 Aug 27 18:09 Aug27_18-07-11_ubuntu\n"
     ]
    }
   ],
   "source": [
    "!ls -l /data2/anti_fraud/models/Qwen2-1___5B-Instruct_ft_0826/runs"
   ]
  },
  {
   "cell_type": "code",
   "execution_count": 2,
   "id": "368cafe9-8d57-4013-84a9-a5f5d0faf5ce",
   "metadata": {},
   "outputs": [
    {
     "data": {
      "text/html": [
       "\n",
       "      <iframe id=\"tensorboard-frame-ff00b44c614e849f\" width=\"100%\" height=\"800\" frameborder=\"0\">\n",
       "      </iframe>\n",
       "      <script>\n",
       "        (function() {\n",
       "          const frame = document.getElementById(\"tensorboard-frame-ff00b44c614e849f\");\n",
       "          const url = new URL(\"/\", window.location);\n",
       "          const port = 6006;\n",
       "          if (port) {\n",
       "            url.port = port;\n",
       "          }\n",
       "          frame.src = url;\n",
       "        })();\n",
       "      </script>\n",
       "    "
      ],
      "text/plain": [
       "<IPython.core.display.HTML object>"
      ]
     },
     "metadata": {},
     "output_type": "display_data"
    }
   ],
   "source": [
    "%tensorboard --host=0.0.0.0 --port 6006 --logdir=/data2/minigpt/models/sft/20241020/log\n"
   ]
  },
  {
   "cell_type": "code",
   "execution_count": 3,
   "id": "cc2f2732-72e3-4feb-9458-67fe66e4c7a3",
   "metadata": {},
   "outputs": [
    {
     "data": {
      "text/html": [
       "\n",
       "      <iframe id=\"tensorboard-frame-9e658fb3dffd0a19\" width=\"100%\" height=\"800\" frameborder=\"0\">\n",
       "      </iframe>\n",
       "      <script>\n",
       "        (function() {\n",
       "          const frame = document.getElementById(\"tensorboard-frame-9e658fb3dffd0a19\");\n",
       "          const url = new URL(\"/\", window.location);\n",
       "          const port = 6006;\n",
       "          if (port) {\n",
       "            url.port = port;\n",
       "          }\n",
       "          frame.src = url;\n",
       "        })();\n",
       "      </script>\n",
       "    "
      ],
      "text/plain": [
       "<IPython.core.display.HTML object>"
      ]
     },
     "metadata": {},
     "output_type": "display_data"
    }
   ],
   "source": [
    "# %tensorboard --host=0.0.0.0 --port 6006 --logdir=/data2/anti_fraud/models/Qwen2-1___5B-Instruct_ft_0903_0"
   ]
  },
  {
   "cell_type": "code",
   "execution_count": 15,
   "id": "0d87f593-ef0f-49ca-ae75-601c86df24a1",
   "metadata": {},
   "outputs": [
    {
     "name": "stdout",
     "output_type": "stream",
     "text": [
      "total 172\n",
      "-rw-rw-r-- 1 xiaoguanghua xiaoguanghua 167904 Sep 10 20:10 events.out.tfevents.1725960019.ubuntu.41174.0\n",
      "-rw-rw-r-- 1 xiaoguanghua xiaoguanghua    359 Sep 10 20:11 events.out.tfevents.1725970267.ubuntu.41174.1\n"
     ]
    }
   ],
   "source": [
    "!ls -l /data2/anti_fraud/models/Qwen2-1___5B-Instruct_ft_0910/runs/Sep10_17-18-29_ubuntu"
   ]
  },
  {
   "cell_type": "code",
   "execution_count": 3,
   "id": "0e665845-b648-4295-ad52-1fbcd7784f8a",
   "metadata": {},
   "outputs": [
    {
     "data": {
      "text/html": [
       "\n",
       "      <iframe id=\"tensorboard-frame-6cfbad8870850e44\" width=\"100%\" height=\"800\" frameborder=\"0\">\n",
       "      </iframe>\n",
       "      <script>\n",
       "        (function() {\n",
       "          const frame = document.getElementById(\"tensorboard-frame-6cfbad8870850e44\");\n",
       "          const url = new URL(\"/\", window.location);\n",
       "          const port = 6010;\n",
       "          if (port) {\n",
       "            url.port = port;\n",
       "          }\n",
       "          frame.src = url;\n",
       "        })();\n",
       "      </script>\n",
       "    "
      ],
      "text/plain": [
       "<IPython.core.display.HTML object>"
      ]
     },
     "metadata": {},
     "output_type": "display_data"
    }
   ],
   "source": [
    "%tensorboard --host=0.0.0.0 --port 6010 --logdir=/data2/minigpt/models/dpo/20241027/log"
   ]
  },
  {
   "cell_type": "code",
   "execution_count": 4,
   "id": "04663296-1c61-4a1b-ba73-d1e51c40c2aa",
   "metadata": {},
   "outputs": [
    {
     "data": {
      "text/html": [
       "\n",
       "      <iframe id=\"tensorboard-frame-b3596c50b6b9950f\" width=\"100%\" height=\"800\" frameborder=\"0\">\n",
       "      </iframe>\n",
       "      <script>\n",
       "        (function() {\n",
       "          const frame = document.getElementById(\"tensorboard-frame-b3596c50b6b9950f\");\n",
       "          const url = new URL(\"/\", window.location);\n",
       "          const port = 6007;\n",
       "          if (port) {\n",
       "            url.port = port;\n",
       "          }\n",
       "          frame.src = url;\n",
       "        })();\n",
       "      </script>\n",
       "    "
      ],
      "text/plain": [
       "<IPython.core.display.HTML object>"
      ]
     },
     "metadata": {},
     "output_type": "display_data"
    }
   ],
   "source": [
    "%tensorboard --host=0.0.0.0 --port 6007 --logdir=/data2/anti_fraud/models/Qwen2-1___5B-Instruct_ft_0910-3/runs/Sep10_22-44-17_ubuntu"
   ]
  },
  {
   "cell_type": "code",
   "execution_count": 11,
   "id": "cd0ff267-82de-4c78-8581-bc0442b1aed3",
   "metadata": {},
   "outputs": [
    {
     "name": "stdout",
     "output_type": "stream",
     "text": [
      "total 192\n",
      "-rw-rw-r-- 1 xiaoguanghua xiaoguanghua  10434 Sep 10 15:57 events.out.tfevents.1725954498.ubuntu.37160.0\n",
      "-rw-rw-r-- 1 xiaoguanghua xiaoguanghua   5508 Sep 10 16:20 events.out.tfevents.1725956421.ubuntu.9240.0\n",
      "-rw-rw-r-- 1 xiaoguanghua xiaoguanghua   6543 Sep 10 16:23 events.out.tfevents.1725956568.ubuntu.19110.0\n",
      "-rw-rw-r-- 1 xiaoguanghua xiaoguanghua 160367 Sep 10 20:01 events.out.tfevents.1725956652.ubuntu.23049.0\n"
     ]
    }
   ],
   "source": [
    "!ls -l /data2/anti_fraud/models/Qwen2-1___5B-Instruct_ft_0910_1/logs"
   ]
  },
  {
   "cell_type": "code",
   "execution_count": 3,
   "id": "858b73f5-8f6f-44ac-8f21-7e15d195bd97",
   "metadata": {},
   "outputs": [
    {
     "data": {
      "text/html": [
       "\n",
       "      <iframe id=\"tensorboard-frame-8dd98e06b12050c0\" width=\"100%\" height=\"800\" frameborder=\"0\">\n",
       "      </iframe>\n",
       "      <script>\n",
       "        (function() {\n",
       "          const frame = document.getElementById(\"tensorboard-frame-8dd98e06b12050c0\");\n",
       "          const url = new URL(\"/\", window.location);\n",
       "          const port = 6009;\n",
       "          if (port) {\n",
       "            url.port = port;\n",
       "          }\n",
       "          frame.src = url;\n",
       "        })();\n",
       "      </script>\n",
       "    "
      ],
      "text/plain": [
       "<IPython.core.display.HTML object>"
      ]
     },
     "metadata": {},
     "output_type": "display_data"
    }
   ],
   "source": [
    "%tensorboard --host=0.0.0.0 --port 6009 --logdir=/data2/minigpt/models/dpo/20241028/runs"
   ]
  },
  {
   "cell_type": "code",
   "execution_count": 1,
   "id": "162cd685-7321-4ec6-8b2f-259301771c46",
   "metadata": {},
   "outputs": [
    {
     "data": {
      "text/html": [
       "\n",
       "      <iframe id=\"tensorboard-frame-2cf34b40c0e83b73\" width=\"100%\" height=\"800\" frameborder=\"0\">\n",
       "      </iframe>\n",
       "      <script>\n",
       "        (function() {\n",
       "          const frame = document.getElementById(\"tensorboard-frame-2cf34b40c0e83b73\");\n",
       "          const url = new URL(\"/\", window.location);\n",
       "          const port = 6006;\n",
       "          if (port) {\n",
       "            url.port = port;\n",
       "          }\n",
       "          frame.src = url;\n",
       "        })();\n",
       "      </script>\n",
       "    "
      ],
      "text/plain": [
       "<IPython.core.display.HTML object>"
      ]
     },
     "metadata": {},
     "output_type": "display_data"
    }
   ],
   "source": [
    "%load_ext tensorboard\n",
    "%tensorboard --host=0.0.0.0 --port 6006 --logdir=/data2/anti_fraud/models/Qwen2-1___5B-Instruct_ft_0925_9/logs"
   ]
  },
  {
   "cell_type": "code",
   "execution_count": null,
   "id": "f6c0003c-f9c5-42d8-ab81-1b39781a5e8c",
   "metadata": {},
   "outputs": [],
   "source": []
  }
 ],
 "metadata": {
  "kernelspec": {
   "display_name": "Python 3 (ipykernel)",
   "language": "python",
   "name": "python3"
  },
  "language_info": {
   "codemirror_mode": {
    "name": "ipython",
    "version": 3
   },
   "file_extension": ".py",
   "mimetype": "text/x-python",
   "name": "python",
   "nbconvert_exporter": "python",
   "pygments_lexer": "ipython3",
   "version": "3.10.14"
  }
 },
 "nbformat": 4,
 "nbformat_minor": 5
}
