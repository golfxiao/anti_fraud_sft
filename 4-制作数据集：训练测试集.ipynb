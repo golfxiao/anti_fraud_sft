{
 "cells": [
  {
   "cell_type": "markdown",
   "metadata": {},
   "source": [
    "## 引言\n",
    "通过前面两篇文章[欺诈文本分类微调（二）：生成正向数据集](https://golfxiao.blog.csdn.net/article/details/141274990)和[欺诈文本分类微调（三）：生成反向数据集](https://golfxiao.blog.csdn.net/article/details/141301705)我们已经生成了正向和反向的基础数据集，不过这些数据集还是比较原始的长篇对话，并不适合直接用于特定任务的指令微调训练，大概还需要进行以下几方面处理：\n",
    "- 区分长度作切割：切割出不同长度的对话文本\n",
    "- 区分标签重分布：正、反向数据集的均衡分布\n",
    "- 区分用途作切分：训练、验证、测试集的构造"
   ]
  },
  {
   "cell_type": "markdown",
   "metadata": {},
   "source": [
    "## 按长度切割\n",
    "\n",
    "之所以要对一个完整的案例进行切割，是为了尽量贴合实际场景。一方面是一场会议比较长，我们不大可能把整个会议的ASR文本一次给到大模型做欺诈检测； 另一方面是为了做到实时检测，也决定了我们拿到的必定是一段对话文本，而不是整个会议ASR。\n",
    "\n",
    "#### 加载数据文件"
   ]
  },
  {
   "cell_type": "markdown",
   "metadata": {},
   "source": [
    "复用前面一篇文章的工具函数。"
   ]
  },
  {
   "cell_type": "code",
   "execution_count": 1,
   "metadata": {
    "metadata": {}
   },
   "outputs": [
    {
     "data": {
      "text/plain": [
       "['短信诈骗(200).csv',\n",
       " '二手交易诈骗(200).csv',\n",
       " '虚拟货币诈骗(200).csv',\n",
       " 'meeting_label_false.csv',\n",
       " '传销诈骗(140).csv',\n",
       " '虚假购物诈骗(200).csv',\n",
       " '“杀猪盘” 诈骗(200).csv',\n",
       " '网络赌博诈骗(200).csv',\n",
       " '微商代理诈骗(200).csv',\n",
       " '冒充客服诈骗(200).csv',\n",
       " '投资诈骗(200).csv',\n",
       " '网络贷款诈骗(162).csv',\n",
       " '兼职刷单诈骗(140).csv']"
      ]
     },
     "execution_count": 1,
     "metadata": {},
     "output_type": "execute_result"
    }
   ],
   "source": [
    "import pandas as pd\n",
    "import os\n",
    "import json\n",
    "\n",
    "def filename(path):\n",
    "    filename_with_ext = os.path.basename(path)\n",
    "    filename, extention = os.path.splitext(filename_with_ext)\n",
    "    return filename\n",
    "\n",
    "def get_files(directory, extension='.csv'):\n",
    "    files = [f for f in os.listdir(directory) if f.endswith(extension)]\n",
    "    return files\n",
    "\n",
    "def print_json(obj):\n",
    "    print(json.dumps(obj, indent=4, ensure_ascii=False))\n",
    "\n",
    "input_dir = \"../dataset/csv_dialogs\"\n",
    "files = get_files(input_dir)\n",
    "files"
   ]
  },
  {
   "cell_type": "code",
   "execution_count": 2,
   "metadata": {},
   "outputs": [
    {
     "data": {
      "text/html": [
       "<div>\n",
       "<style scoped>\n",
       "    .dataframe tbody tr th:only-of-type {\n",
       "        vertical-align: middle;\n",
       "    }\n",
       "\n",
       "    .dataframe tbody tr th {\n",
       "        vertical-align: top;\n",
       "    }\n",
       "\n",
       "    .dataframe thead th {\n",
       "        text-align: right;\n",
       "    }\n",
       "</style>\n",
       "<table border=\"1\" class=\"dataframe\">\n",
       "  <thead>\n",
       "    <tr style=\"text-align: right;\">\n",
       "      <th></th>\n",
       "      <th>case</th>\n",
       "      <th>speaker</th>\n",
       "      <th>content</th>\n",
       "      <th>is_fraud</th>\n",
       "    </tr>\n",
       "  </thead>\n",
       "  <tbody>\n",
       "    <tr>\n",
       "      <th>0</th>\n",
       "      <td>案例-0</td>\n",
       "      <td>张伟</td>\n",
       "      <td>丁先生，我最近发现了一款非常不错的投资APP，收益特别高，我自己已经试过了，回报率非常可观。...</td>\n",
       "      <td>True</td>\n",
       "    </tr>\n",
       "    <tr>\n",
       "      <th>1</th>\n",
       "      <td>案例-0</td>\n",
       "      <td>丁志强</td>\n",
       "      <td>真的吗？能详细说说吗？这款APP叫什么名字？</td>\n",
       "      <td>False</td>\n",
       "    </tr>\n",
       "    <tr>\n",
       "      <th>2</th>\n",
       "      <td>案例-0</td>\n",
       "      <td>张伟</td>\n",
       "      <td>当然，这款APP叫‘财富宝’，刚上线不久。你可以先投入一些小钱试试看，安心的话再加大投资。</td>\n",
       "      <td>True</td>\n",
       "    </tr>\n",
       "    <tr>\n",
       "      <th>3</th>\n",
       "      <td>案例-0</td>\n",
       "      <td>丁志强</td>\n",
       "      <td>那我该怎么操作？</td>\n",
       "      <td>False</td>\n",
       "    </tr>\n",
       "    <tr>\n",
       "      <th>4</th>\n",
       "      <td>案例-0</td>\n",
       "      <td>张伟</td>\n",
       "      <td>很简单，你先下载这个APP，注册账号后绑定你的银行卡，然后就可以开始投资了。前几天我刚投资了...</td>\n",
       "      <td>True</td>\n",
       "    </tr>\n",
       "    <tr>\n",
       "      <th>5</th>\n",
       "      <td>案例-0</td>\n",
       "      <td>丁志强</td>\n",
       "      <td>听起来不错，我试试看。希望能有好的回报。</td>\n",
       "      <td>False</td>\n",
       "    </tr>\n",
       "    <tr>\n",
       "      <th>6</th>\n",
       "      <td>案例-0</td>\n",
       "      <td>张伟</td>\n",
       "      <td>放心吧，绝对没问题，你要是遇到什么问题随时联系我。</td>\n",
       "      <td>True</td>\n",
       "    </tr>\n",
       "    <tr>\n",
       "      <th>7</th>\n",
       "      <td>案例-0</td>\n",
       "      <td>丁志强</td>\n",
       "      <td>好的，我已经投资了五万块，看看效果怎么样。</td>\n",
       "      <td>False</td>\n",
       "    </tr>\n",
       "    <tr>\n",
       "      <th>8</th>\n",
       "      <td>案例-0</td>\n",
       "      <td>张伟</td>\n",
       "      <td>很好，过几天你会看到收益的，如果有更多的资金可以投入，回报会更高。</td>\n",
       "      <td>True</td>\n",
       "    </tr>\n",
       "    <tr>\n",
       "      <th>9</th>\n",
       "      <td>案例-0</td>\n",
       "      <td>张伟</td>\n",
       "      <td>丁先生，最近我们开展了一个限时活动，再投资十万就可以享受双倍收益，你要不要抓住这个机会？</td>\n",
       "      <td>True</td>\n",
       "    </tr>\n",
       "    <tr>\n",
       "      <th>10</th>\n",
       "      <td>案例-0</td>\n",
       "      <td>丁志强</td>\n",
       "      <td>那我再投十万，看看效果。</td>\n",
       "      <td>False</td>\n",
       "    </tr>\n",
       "    <tr>\n",
       "      <th>11</th>\n",
       "      <td>案例-0</td>\n",
       "      <td>张伟</td>\n",
       "      <td>很好，恭喜你，过几天就能看到你的收益了。</td>\n",
       "      <td>True</td>\n",
       "    </tr>\n",
       "    <tr>\n",
       "      <th>12</th>\n",
       "      <td>案例-0</td>\n",
       "      <td>丁志强</td>\n",
       "      <td>张伟，我试着提现，但是一直失败，这是怎么回事？</td>\n",
       "      <td>False</td>\n",
       "    </tr>\n",
       "    <tr>\n",
       "      <th>13</th>\n",
       "      <td>案例-0</td>\n",
       "      <td>张伟</td>\n",
       "      <td>别着急，最近系统在升级，过几天再试试就好了。相信我，不会有问题的。</td>\n",
       "      <td>True</td>\n",
       "    </tr>\n",
       "    <tr>\n",
       "      <th>14</th>\n",
       "      <td>案例-1</td>\n",
       "      <td>张华</td>\n",
       "      <td>你好，我是某短视频平台上的投资理财导师张华，很高兴认识你。今天我们主要讲解一些基础的投资理财知识。</td>\n",
       "      <td>False</td>\n",
       "    </tr>\n",
       "    <tr>\n",
       "      <th>15</th>\n",
       "      <td>案例-1</td>\n",
       "      <td>闫某</td>\n",
       "      <td>你好，张老师。我最近对投资理财很感兴趣，希望能够学习一些实用的知识。</td>\n",
       "      <td>False</td>\n",
       "    </tr>\n",
       "    <tr>\n",
       "      <th>16</th>\n",
       "      <td>案例-1</td>\n",
       "      <td>张华</td>\n",
       "      <td>非常好，投资理财确实是一个非常好的方向，可以让你的财务更加自由。我们的课程会从基础到高级，系...</td>\n",
       "      <td>False</td>\n",
       "    </tr>\n",
       "    <tr>\n",
       "      <th>17</th>\n",
       "      <td>案例-1</td>\n",
       "      <td>闫某</td>\n",
       "      <td>听起来不错，那我需要怎么开始呢？</td>\n",
       "      <td>False</td>\n",
       "    </tr>\n",
       "    <tr>\n",
       "      <th>18</th>\n",
       "      <td>案例-1</td>\n",
       "      <td>张华</td>\n",
       "      <td>你可以先购买我们的基础课程，只需要500元，就能获得全面的学习资料和视频教程。</td>\n",
       "      <td>False</td>\n",
       "    </tr>\n",
       "    <tr>\n",
       "      <th>19</th>\n",
       "      <td>案例-1</td>\n",
       "      <td>闫某</td>\n",
       "      <td>好的，我会去购买课程。</td>\n",
       "      <td>False</td>\n",
       "    </tr>\n",
       "  </tbody>\n",
       "</table>\n",
       "</div>"
      ],
      "text/plain": [
       "    case speaker                                            content  is_fraud\n",
       "0   案例-0      张伟  丁先生，我最近发现了一款非常不错的投资APP，收益特别高，我自己已经试过了，回报率非常可观。...      True\n",
       "1   案例-0     丁志强                             真的吗？能详细说说吗？这款APP叫什么名字？     False\n",
       "2   案例-0      张伟      当然，这款APP叫‘财富宝’，刚上线不久。你可以先投入一些小钱试试看，安心的话再加大投资。      True\n",
       "3   案例-0     丁志强                                           那我该怎么操作？     False\n",
       "4   案例-0      张伟  很简单，你先下载这个APP，注册账号后绑定你的银行卡，然后就可以开始投资了。前几天我刚投资了...      True\n",
       "5   案例-0     丁志强                               听起来不错，我试试看。希望能有好的回报。     False\n",
       "6   案例-0      张伟                          放心吧，绝对没问题，你要是遇到什么问题随时联系我。      True\n",
       "7   案例-0     丁志强                              好的，我已经投资了五万块，看看效果怎么样。     False\n",
       "8   案例-0      张伟                  很好，过几天你会看到收益的，如果有更多的资金可以投入，回报会更高。      True\n",
       "9   案例-0      张伟       丁先生，最近我们开展了一个限时活动，再投资十万就可以享受双倍收益，你要不要抓住这个机会？      True\n",
       "10  案例-0     丁志强                                       那我再投十万，看看效果。     False\n",
       "11  案例-0      张伟                               很好，恭喜你，过几天就能看到你的收益了。      True\n",
       "12  案例-0     丁志强                            张伟，我试着提现，但是一直失败，这是怎么回事？     False\n",
       "13  案例-0      张伟                  别着急，最近系统在升级，过几天再试试就好了。相信我，不会有问题的。      True\n",
       "14  案例-1      张华  你好，我是某短视频平台上的投资理财导师张华，很高兴认识你。今天我们主要讲解一些基础的投资理财知识。     False\n",
       "15  案例-1      闫某                 你好，张老师。我最近对投资理财很感兴趣，希望能够学习一些实用的知识。     False\n",
       "16  案例-1      张华  非常好，投资理财确实是一个非常好的方向，可以让你的财务更加自由。我们的课程会从基础到高级，系...     False\n",
       "17  案例-1      闫某                                   听起来不错，那我需要怎么开始呢？     False\n",
       "18  案例-1      张华            你可以先购买我们的基础课程，只需要500元，就能获得全面的学习资料和视频教程。     False\n",
       "19  案例-1      闫某                                        好的，我会去购买课程。     False"
      ]
     },
     "execution_count": 2,
     "metadata": {},
     "output_type": "execute_result"
    }
   ],
   "source": [
    "df = pd.read_csv(os.path.join(input_dir, files[10]))\n",
    "df.head(20)"
   ]
  },
  {
   "cell_type": "markdown",
   "metadata": {},
   "source": [
    "#### 对话集切割\n",
    "\n",
    "定义数据集中的列名，以及任务中的提示词指令。"
   ]
  },
  {
   "cell_type": "code",
   "execution_count": 3,
   "metadata": {
    "metadata": {}
   },
   "outputs": [],
   "source": [
    "group_column = 'case'\n",
    "speaker_column = 'speaker'\n",
    "content_column = 'content'\n",
    "is_fraud_column = 'is_fraud'\n",
    "instruction = \"下面是一段对话文本, 请分析对话内容是否有诈骗风险，只以json格式输出你的判断结果(is_fraud: true/false)。\""
   ]
  },
  {
   "cell_type": "markdown",
   "metadata": {},
   "source": [
    "##### 工具函数定义\n",
    "\n",
    "定义几个工具函数用于辅助对话集分割，\n",
    "- find_fraud_speaker：用于找出案例中属于诈骗角色的发言人，对于正向（欺诈）数据集，里面必定有一个发言人属于诈骗者。\n",
    "- total_chars: 用于统计一组对话集的长度，用于实时判断分割后对话集的长度是否超限。\n",
    "- to_train_data: 用于将一组对话集转换为一条训练数据。"
   ]
  },
  {
   "cell_type": "code",
   "execution_count": 4,
   "metadata": {},
   "outputs": [],
   "source": [
    "def find_fraud_speaker(df: pd.DataFrame):\n",
    "    # 按照speaker列进行分组，并统计每个分组下is_fraud=True的数量\n",
    "    fraud_counts = df.groupby(speaker_column)[is_fraud_column].sum()\n",
    "    # 特殊情况处理：对于没有is_fraud=True的对话集，则没有诈骗者\n",
    "    if fraud_counts.max() == 0:\n",
    "        return ''\n",
    "    # 统计欺诈最多的speaker即认为是诈骗者\n",
    "    return fraud_counts.idxmax()\n",
    "\n",
    "def total_chars(strs: list):\n",
    "    return sum(len(s) for s in strs)\n",
    "\n",
    "def to_train_data(dialog:list, label, instruction, fraud_speaker=''):\n",
    "    content = \"\\n\".join(dialog)\n",
    "    return {\"input\": content, \"label\": label, \"fraud_speaker\": fraud_speaker, \"instruction\": instruction}\n"
   ]
  },
  {
   "cell_type": "markdown",
   "metadata": {},
   "source": [
    "定义一个函数split_dialog用于处理单个案例的分割，按照指定的长度将一个案例分割成多段对话，每段对话作为一条训练数据。"
   ]
  },
  {
   "cell_type": "code",
   "execution_count": 5,
   "metadata": {
    "metadata": {}
   },
   "outputs": [],
   "source": [
    "\n",
    "def split_dialog(dialog: pd.DataFrame, max_length):\n",
    "    small_dialogs = []\n",
    "    current_segment = []\n",
    "    current_label = False\n",
    "    fraud_speaker = find_fraud_speaker(dialog)\n",
    "    # 遍历dataframe中的所有数据行\n",
    "    for _, item in dialog.iterrows():\n",
    "        statement = f\"{item[speaker_column]}: {item[content_column]}\"\n",
    "        if max_length <= 0:\n",
    "            current_segment.append(statement)\n",
    "        elif total_chars(current_segment) + len(statement) < max_length:\n",
    "            current_segment.append(statement)\n",
    "        else:\n",
    "            small_dialogs.append(to_train_data(current_segment, current_label, instruction, fraud_speaker))\n",
    "            current_label = False\n",
    "            current_segment[:] = [statement]\n",
    "        current_label = True if item[is_fraud_column] == True else current_label\n",
    "    # 处理最后一段剩余的对话，为避免内容太碎，限制对话集在两条及以上时才有效\n",
    "    if len(current_segment) >= 2:\n",
    "        small_dialogs.append(to_train_data(current_segment, current_label, instruction, fraud_speaker))\n",
    "    return small_dialogs"
   ]
  },
  {
   "cell_type": "markdown",
   "metadata": {},
   "source": [
    "##### 分组操作\n",
    "\n",
    "由于不同的案例不能分割到不同的对话集中，因此，在分割对话集之前，要先按案例进行分组。\n",
    "\n",
    "预览下groupby分组后的效果。"
   ]
  },
  {
   "cell_type": "code",
   "execution_count": 6,
   "metadata": {},
   "outputs": [
    {
     "data": {
      "text/plain": [
       "case\n",
       "案例-0      14\n",
       "案例-1      18\n",
       "案例-10      9\n",
       "案例-100    14\n",
       "案例-101    13\n",
       "          ..\n",
       "案例-95     16\n",
       "案例-96     17\n",
       "案例-97     19\n",
       "案例-98     26\n",
       "案例-99     19\n",
       "Length: 199, dtype: int64"
      ]
     },
     "execution_count": 6,
     "metadata": {},
     "output_type": "execute_result"
    }
   ],
   "source": [
    "import json\n",
    "\n",
    "df = pd.read_csv(os.path.join(input_dir, files[10]))\n",
    "grouped = df.groupby(group_column)\n",
    "grouped.size()"
   ]
  },
  {
   "cell_type": "markdown",
   "metadata": {},
   "source": [
    "有两种方式对groupby分组后的DataFrame进行迭代：\n",
    "1. 使用grouped.groups对键进行迭代，\n",
    "2. 直接使用for name, group in grouped:来迭代分组名和对应的DataFrame片段"
   ]
  },
  {
   "cell_type": "code",
   "execution_count": 7,
   "metadata": {},
   "outputs": [
    {
     "name": "stdout",
     "output_type": "stream",
     "text": [
      "案例-0     case speaker                                            content  is_fraud\n",
      "0   案例-0      张伟  丁先生，我最近发现了一款非常不错的投资APP，收益特别高，我自己已经试过了，回报率非常可观。...      True\n",
      "1   案例-0     丁志强                             真的吗？能详细说说吗？这款APP叫什么名字？     False\n",
      "2   案例-0      张伟      当然，这款APP叫‘财富宝’，刚上线不久。你可以先投入一些小钱试试看，安心的话再加大投资。      True\n",
      "3   案例-0     丁志强                                           那我该怎么操作？     False\n",
      "4   案例-0      张伟  很简单，你先下载这个APP，注册账号后绑定你的银行卡，然后就可以开始投资了。前几天我刚投资了...      True\n",
      "5   案例-0     丁志强                               听起来不错，我试试看。希望能有好的回报。     False\n",
      "6   案例-0      张伟                          放心吧，绝对没问题，你要是遇到什么问题随时联系我。      True\n",
      "7   案例-0     丁志强                              好的，我已经投资了五万块，看看效果怎么样。     False\n",
      "8   案例-0      张伟                  很好，过几天你会看到收益的，如果有更多的资金可以投入，回报会更高。      True\n",
      "9   案例-0      张伟       丁先生，最近我们开展了一个限时活动，再投资十万就可以享受双倍收益，你要不要抓住这个机会？      True\n",
      "10  案例-0     丁志强                                       那我再投十万，看看效果。     False\n",
      "11  案例-0      张伟                               很好，恭喜你，过几天就能看到你的收益了。      True\n",
      "12  案例-0     丁志强                            张伟，我试着提现，但是一直失败，这是怎么回事？     False\n",
      "13  案例-0      张伟                  别着急，最近系统在升级，过几天再试试就好了。相信我，不会有问题的。      True\n",
      "threshold = 100 chars\n",
      "[\n",
      "    {\n",
      "        \"input\": \"张伟: 丁先生，我最近发现了一款非常不错的投资APP，收益特别高，我自己已经试过了，回报率非常可观。你要不要也试试？\\n丁志强: 真的吗？能详细说说吗？这款APP叫什么名字？\",\n",
      "        \"label\": true,\n",
      "        \"fraud_speaker\": \"张伟\",\n",
      "        \"instruction\": \"下面是一段对话文本, 请分析对话内容是否有诈骗风险，只以json格式输出你的判断结果(is_fraud: true/false)。\"\n",
      "    },\n",
      "    {\n",
      "        \"input\": \"张伟: 当然，这款APP叫‘财富宝’，刚上线不久。你可以先投入一些小钱试试看，安心的话再加大投资。\\n丁志强: 那我该怎么操作？\",\n",
      "        \"label\": true,\n",
      "        \"fraud_speaker\": \"张伟\",\n",
      "        \"instruction\": \"下面是一段对话文本, 请分析对话内容是否有诈骗风险，只以json格式输出你的判断结果(is_fraud: true/false)。\"\n",
      "    },\n",
      "    {\n",
      "        \"input\": \"张伟: 很简单，你先下载这个APP，注册账号后绑定你的银行卡，然后就可以开始投资了。前几天我刚投资了十万，现在已经收益两千多了。\\n丁志强: 听起来不错，我试试看。希望能有好的回报。\",\n",
      "        \"label\": true,\n",
      "        \"fraud_speaker\": \"张伟\",\n",
      "        \"instruction\": \"下面是一段对话文本, 请分析对话内容是否有诈骗风险，只以json格式输出你的判断结果(is_fraud: true/false)。\"\n",
      "    },\n",
      "    {\n",
      "        \"input\": \"张伟: 放心吧，绝对没问题，你要是遇到什么问题随时联系我。\\n丁志强: 好的，我已经投资了五万块，看看效果怎么样。\\n张伟: 很好，过几天你会看到收益的，如果有更多的资金可以投入，回报会更高。\",\n",
      "        \"label\": true,\n",
      "        \"fraud_speaker\": \"张伟\",\n",
      "        \"instruction\": \"下面是一段对话文本, 请分析对话内容是否有诈骗风险，只以json格式输出你的判断结果(is_fraud: true/false)。\"\n",
      "    },\n",
      "    {\n",
      "        \"input\": \"张伟: 丁先生，最近我们开展了一个限时活动，再投资十万就可以享受双倍收益，你要不要抓住这个机会？\\n丁志强: 那我再投十万，看看效果。\\n张伟: 很好，恭喜你，过几天就能看到你的收益了。\",\n",
      "        \"label\": true,\n",
      "        \"fraud_speaker\": \"张伟\",\n",
      "        \"instruction\": \"下面是一段对话文本, 请分析对话内容是否有诈骗风险，只以json格式输出你的判断结果(is_fraud: true/false)。\"\n",
      "    },\n",
      "    {\n",
      "        \"input\": \"丁志强: 张伟，我试着提现，但是一直失败，这是怎么回事？\\n张伟: 别着急，最近系统在升级，过几天再试试就好了。相信我，不会有问题的。\",\n",
      "        \"label\": true,\n",
      "        \"fraud_speaker\": \"张伟\",\n",
      "        \"instruction\": \"下面是一段对话文本, 请分析对话内容是否有诈骗风险，只以json格式输出你的判断结果(is_fraud: true/false)。\"\n",
      "    }\n",
      "]\n",
      "threshold = 300 chars\n",
      "[\n",
      "    {\n",
      "        \"input\": \"张伟: 丁先生，我最近发现了一款非常不错的投资APP，收益特别高，我自己已经试过了，回报率非常可观。你要不要也试试？\\n丁志强: 真的吗？能详细说说吗？这款APP叫什么名字？\\n张伟: 当然，这款APP叫‘财富宝’，刚上线不久。你可以先投入一些小钱试试看，安心的话再加大投资。\\n丁志强: 那我该怎么操作？\\n张伟: 很简单，你先下载这个APP，注册账号后绑定你的银行卡，然后就可以开始投资了。前几天我刚投资了十万，现在已经收益两千多了。\\n丁志强: 听起来不错，我试试看。希望能有好的回报。\\n张伟: 放心吧，绝对没问题，你要是遇到什么问题随时联系我。\\n丁志强: 好的，我已经投资了五万块，看看效果怎么样。\",\n",
      "        \"label\": true,\n",
      "        \"fraud_speaker\": \"张伟\",\n",
      "        \"instruction\": \"下面是一段对话文本, 请分析对话内容是否有诈骗风险，只以json格式输出你的判断结果(is_fraud: true/false)。\"\n",
      "    },\n",
      "    {\n",
      "        \"input\": \"张伟: 很好，过几天你会看到收益的，如果有更多的资金可以投入，回报会更高。\\n张伟: 丁先生，最近我们开展了一个限时活动，再投资十万就可以享受双倍收益，你要不要抓住这个机会？\\n丁志强: 那我再投十万，看看效果。\\n张伟: 很好，恭喜你，过几天就能看到你的收益了。\\n丁志强: 张伟，我试着提现，但是一直失败，这是怎么回事？\\n张伟: 别着急，最近系统在升级，过几天再试试就好了。相信我，不会有问题的。\",\n",
      "        \"label\": true,\n",
      "        \"fraud_speaker\": \"张伟\",\n",
      "        \"instruction\": \"下面是一段对话文本, 请分析对话内容是否有诈骗风险，只以json格式输出你的判断结果(is_fraud: true/false)。\"\n",
      "    }\n",
      "]\n",
      "threshold = 500 chars\n",
      "[\n",
      "    {\n",
      "        \"input\": \"张伟: 丁先生，我最近发现了一款非常不错的投资APP，收益特别高，我自己已经试过了，回报率非常可观。你要不要也试试？\\n丁志强: 真的吗？能详细说说吗？这款APP叫什么名字？\\n张伟: 当然，这款APP叫‘财富宝’，刚上线不久。你可以先投入一些小钱试试看，安心的话再加大投资。\\n丁志强: 那我该怎么操作？\\n张伟: 很简单，你先下载这个APP，注册账号后绑定你的银行卡，然后就可以开始投资了。前几天我刚投资了十万，现在已经收益两千多了。\\n丁志强: 听起来不错，我试试看。希望能有好的回报。\\n张伟: 放心吧，绝对没问题，你要是遇到什么问题随时联系我。\\n丁志强: 好的，我已经投资了五万块，看看效果怎么样。\\n张伟: 很好，过几天你会看到收益的，如果有更多的资金可以投入，回报会更高。\\n张伟: 丁先生，最近我们开展了一个限时活动，再投资十万就可以享受双倍收益，你要不要抓住这个机会？\\n丁志强: 那我再投十万，看看效果。\\n张伟: 很好，恭喜你，过几天就能看到你的收益了。\\n丁志强: 张伟，我试着提现，但是一直失败，这是怎么回事？\\n张伟: 别着急，最近系统在升级，过几天再试试就好了。相信我，不会有问题的。\",\n",
      "        \"label\": true,\n",
      "        \"fraud_speaker\": \"张伟\",\n",
      "        \"instruction\": \"下面是一段对话文本, 请分析对话内容是否有诈骗风险，只以json格式输出你的判断结果(is_fraud: true/false)。\"\n",
      "    }\n",
      "]\n"
     ]
    }
   ],
   "source": [
    "for name, group in grouped:\n",
    "    print(name, group)\n",
    "    print(\"threshold = 100 chars\")\n",
    "    print_json(split_dialog(group, 100))\n",
    "\n",
    "    print(\"threshold = 300 chars\")\n",
    "    print_json(split_dialog(group, 300))\n",
    "\n",
    "    print(\"threshold = 500 chars\")\n",
    "    print_json(split_dialog(group, 500))\n",
    "\n",
    "    break"
   ]
  },
  {
   "cell_type": "markdown",
   "metadata": {},
   "source": [
    "#### 主循环"
   ]
  },
  {
   "cell_type": "markdown",
   "metadata": {},
   "source": [
    "convert_to_jsonl：单个数据文件处理，将csv格式的对话集文件，转换成jsonl格式的对话集文件，转换过程：\n",
    "1. 读取输入文件，并按照第一列case（案例名称）进行分组，case相同的对话属于同一个案例。\n",
    "2. 循环对每个案例应用split_dialog函数，将长对话集分割成短对话集并转换为json格式。\n",
    "3. 将所有分割后的短对话集以jsonl的格式保存。\n",
    "\n",
    "> 注：我们在分割对话集时，必须在一个案例内部进行分割，确保一条训练数据中不会出现不同案例的交叉。"
   ]
  },
  {
   "cell_type": "code",
   "execution_count": 8,
   "metadata": {},
   "outputs": [],
   "source": [
    "def convert_to_jsonl(input_path, output_path, max_length=200):\n",
    "    df = pd.read_csv(input_path)\n",
    "    # 按照某列的数据进行分组\n",
    "    grouped = df.groupby(group_column)\n",
    "    # 分割对话集，长对话按照指定长度分割成短对话\n",
    "    all_dialogs = []\n",
    "    for _, group in grouped:\n",
    "        small_dialogs = split_dialog(group, max_length)\n",
    "        all_dialogs.extend(small_dialogs)\n",
    "    train_dataset = pd.DataFrame(all_dialogs)\n",
    "    # orient=\"records\" 表示dataset中的每一行是一个json对象\n",
    "    # lines=True 表示每个json对象写入文件时占一行\n",
    "    train_dataset.to_json(output_path, orient=\"records\", lines=True, force_ascii=False)"
   ]
  },
  {
   "cell_type": "markdown",
   "metadata": {},
   "source": [
    "all_to_jsonl用于将一个目录下的所有csv对话集文件都转换为jsonl格式的文件。"
   ]
  },
  {
   "cell_type": "code",
   "execution_count": 9,
   "metadata": {
    "metadata": {}
   },
   "outputs": [],
   "source": [
    "output_dir = \"../dataset/fraud/jsonl\"\n",
    "os.makedirs(output_dir, exist_ok=True)\n",
    "\n",
    "def all_to_jsonl(input_dir, output_dir, max_length):\n",
    "    max_length = 0 if max_length < 0 else max_length\n",
    "    files = get_files(input_dir, extension=\".csv\")\n",
    "    for file in files:\n",
    "        input_path = os.path.join(input_dir, file)\n",
    "        output_file = f\"{filename(input_path)}_train_{max_length}.jsonl\"\n",
    "        output_path = os.path.join(output_dir, output_file)\n",
    "        convert_to_jsonl(input_path, output_path, max_length)\n",
    "        print(f\"convert {file} to {output_file}\")"
   ]
  },
  {
   "cell_type": "markdown",
   "metadata": {},
   "source": [
    "按照100字符的长度进行切割，将csv转换为jsonl。"
   ]
  },
  {
   "cell_type": "code",
   "execution_count": 10,
   "metadata": {
    "metadata": {}
   },
   "outputs": [
    {
     "name": "stdout",
     "output_type": "stream",
     "text": [
      "convert 短信诈骗(200).csv to 短信诈骗(200)_train_100.jsonl\n",
      "convert 二手交易诈骗(200).csv to 二手交易诈骗(200)_train_100.jsonl\n",
      "convert 虚拟货币诈骗(200).csv to 虚拟货币诈骗(200)_train_100.jsonl\n",
      "convert meeting_label_false.csv to meeting_label_false_train_100.jsonl\n",
      "convert 传销诈骗(140).csv to 传销诈骗(140)_train_100.jsonl\n",
      "convert 虚假购物诈骗(200).csv to 虚假购物诈骗(200)_train_100.jsonl\n",
      "convert “杀猪盘” 诈骗(200).csv to “杀猪盘” 诈骗(200)_train_100.jsonl\n",
      "convert 网络赌博诈骗(200).csv to 网络赌博诈骗(200)_train_100.jsonl\n",
      "convert 微商代理诈骗(200).csv to 微商代理诈骗(200)_train_100.jsonl\n",
      "convert 冒充客服诈骗(200).csv to 冒充客服诈骗(200)_train_100.jsonl\n",
      "convert 投资诈骗(200).csv to 投资诈骗(200)_train_100.jsonl\n",
      "convert 网络贷款诈骗(162).csv to 网络贷款诈骗(162)_train_100.jsonl\n",
      "convert 兼职刷单诈骗(140).csv to 兼职刷单诈骗(140)_train_100.jsonl\n"
     ]
    }
   ],
   "source": [
    "all_to_jsonl(input_dir, output_dir, 100)"
   ]
  },
  {
   "cell_type": "markdown",
   "metadata": {},
   "source": [
    "按照300字符的长度进行切割，将csv转换为jsonl。"
   ]
  },
  {
   "cell_type": "code",
   "execution_count": 11,
   "metadata": {
    "metadata": {}
   },
   "outputs": [
    {
     "name": "stdout",
     "output_type": "stream",
     "text": [
      "convert 短信诈骗(200).csv to 短信诈骗(200)_train_300.jsonl\n",
      "convert 二手交易诈骗(200).csv to 二手交易诈骗(200)_train_300.jsonl\n",
      "convert 虚拟货币诈骗(200).csv to 虚拟货币诈骗(200)_train_300.jsonl\n",
      "convert meeting_label_false.csv to meeting_label_false_train_300.jsonl\n",
      "convert 传销诈骗(140).csv to 传销诈骗(140)_train_300.jsonl\n",
      "convert 虚假购物诈骗(200).csv to 虚假购物诈骗(200)_train_300.jsonl\n",
      "convert “杀猪盘” 诈骗(200).csv to “杀猪盘” 诈骗(200)_train_300.jsonl\n",
      "convert 网络赌博诈骗(200).csv to 网络赌博诈骗(200)_train_300.jsonl\n",
      "convert 微商代理诈骗(200).csv to 微商代理诈骗(200)_train_300.jsonl\n",
      "convert 冒充客服诈骗(200).csv to 冒充客服诈骗(200)_train_300.jsonl\n",
      "convert 投资诈骗(200).csv to 投资诈骗(200)_train_300.jsonl\n",
      "convert 网络贷款诈骗(162).csv to 网络贷款诈骗(162)_train_300.jsonl\n",
      "convert 兼职刷单诈骗(140).csv to 兼职刷单诈骗(140)_train_300.jsonl\n"
     ]
    }
   ],
   "source": [
    "\n",
    "all_to_jsonl(input_dir, output_dir, 300)"
   ]
  },
  {
   "cell_type": "markdown",
   "metadata": {},
   "source": [
    "按照500字符的长度进行切割，将csv转换为jsonl。"
   ]
  },
  {
   "cell_type": "code",
   "execution_count": 12,
   "metadata": {
    "metadata": {}
   },
   "outputs": [
    {
     "name": "stdout",
     "output_type": "stream",
     "text": [
      "convert 短信诈骗(200).csv to 短信诈骗(200)_train_500.jsonl\n",
      "convert 二手交易诈骗(200).csv to 二手交易诈骗(200)_train_500.jsonl\n",
      "convert 虚拟货币诈骗(200).csv to 虚拟货币诈骗(200)_train_500.jsonl\n",
      "convert meeting_label_false.csv to meeting_label_false_train_500.jsonl\n",
      "convert 传销诈骗(140).csv to 传销诈骗(140)_train_500.jsonl\n",
      "convert 虚假购物诈骗(200).csv to 虚假购物诈骗(200)_train_500.jsonl\n",
      "convert “杀猪盘” 诈骗(200).csv to “杀猪盘” 诈骗(200)_train_500.jsonl\n",
      "convert 网络赌博诈骗(200).csv to 网络赌博诈骗(200)_train_500.jsonl\n",
      "convert 微商代理诈骗(200).csv to 微商代理诈骗(200)_train_500.jsonl\n",
      "convert 冒充客服诈骗(200).csv to 冒充客服诈骗(200)_train_500.jsonl\n",
      "convert 投资诈骗(200).csv to 投资诈骗(200)_train_500.jsonl\n",
      "convert 网络贷款诈骗(162).csv to 网络贷款诈骗(162)_train_500.jsonl\n",
      "convert 兼职刷单诈骗(140).csv to 兼职刷单诈骗(140)_train_500.jsonl\n"
     ]
    }
   ],
   "source": [
    "all_to_jsonl(input_dir, output_dir, 500)"
   ]
  },
  {
   "cell_type": "markdown",
   "metadata": {},
   "source": [
    "这样，所有的案例都被切割成了100、300、500长度的小对话集。"
   ]
  },
  {
   "cell_type": "code",
   "execution_count": 13,
   "metadata": {},
   "outputs": [
    {
     "name": "stdout",
     "output_type": "stream",
     "text": [
      "total 22144\n",
      "-rw-rw-r-- 1 xiaoguanghua xiaoguanghua 2899397 Oct 12 17:48  meeting_label_false_train_100.jsonl\n",
      "-rw-rw-r-- 1 xiaoguanghua xiaoguanghua 2253870 Oct 12 17:48  meeting_label_false_train_300.jsonl\n",
      "-rw-rw-r-- 1 xiaoguanghua xiaoguanghua 2031157 Oct 12 17:48  meeting_label_false_train_500.jsonl\n",
      "-rw-rw-r-- 1 xiaoguanghua xiaoguanghua  504839 Oct 12 17:48 '二手交易诈骗(200)_train_100.jsonl'\n",
      "-rw-rw-r-- 1 xiaoguanghua xiaoguanghua  351986 Oct 12 17:48 '二手交易诈骗(200)_train_300.jsonl'\n",
      "-rw-rw-r-- 1 xiaoguanghua xiaoguanghua  322703 Oct 12 17:48 '二手交易诈骗(200)_train_500.jsonl'\n",
      "-rw-rw-r-- 1 xiaoguanghua xiaoguanghua  314864 Oct 12 17:48 '传销诈骗(140)_train_100.jsonl'\n",
      "-rw-rw-r-- 1 xiaoguanghua xiaoguanghua  222343 Oct 12 17:48 '传销诈骗(140)_train_300.jsonl'\n",
      "-rw-rw-r-- 1 xiaoguanghua xiaoguanghua  205191 Oct 12 17:48 '传销诈骗(140)_train_500.jsonl'\n",
      "-rw-rw-r-- 1 xiaoguanghua xiaoguanghua  463026 Oct 12 17:48 '兼职刷单诈骗(140)_train_100.jsonl'\n",
      "-rw-rw-r-- 1 xiaoguanghua xiaoguanghua  317546 Oct 12 17:48 '兼职刷单诈骗(140)_train_300.jsonl'\n",
      "-rw-rw-r-- 1 xiaoguanghua xiaoguanghua  293590 Oct 12 17:48 '兼职刷单诈骗(140)_train_500.jsonl'\n",
      "-rw-rw-r-- 1 xiaoguanghua xiaoguanghua  608615 Oct 12 17:48 '冒充客服诈骗(200)_train_100.jsonl'\n",
      "-rw-rw-r-- 1 xiaoguanghua xiaoguanghua  416961 Oct 12 17:48 '冒充客服诈骗(200)_train_300.jsonl'\n",
      "-rw-rw-r-- 1 xiaoguanghua xiaoguanghua  385871 Oct 12 17:48 '冒充客服诈骗(200)_train_500.jsonl'\n",
      "-rw-rw-r-- 1 xiaoguanghua xiaoguanghua  616375 Oct 12 17:48 '微商代理诈骗(200)_train_100.jsonl'\n",
      "-rw-rw-r-- 1 xiaoguanghua xiaoguanghua  430021 Oct 12 17:48 '微商代理诈骗(200)_train_300.jsonl'\n",
      "-rw-rw-r-- 1 xiaoguanghua xiaoguanghua  396675 Oct 12 17:48 '微商代理诈骗(200)_train_500.jsonl'\n",
      "-rw-rw-r-- 1 xiaoguanghua xiaoguanghua  614189 Oct 12 17:48 '投资诈骗(200)_train_100.jsonl'\n",
      "-rw-rw-r-- 1 xiaoguanghua xiaoguanghua  424476 Oct 12 17:48 '投资诈骗(200)_train_300.jsonl'\n",
      "-rw-rw-r-- 1 xiaoguanghua xiaoguanghua  391818 Oct 12 17:48 '投资诈骗(200)_train_500.jsonl'\n",
      "-rw-rw-r-- 1 xiaoguanghua xiaoguanghua  715360 Oct 12 17:48 '“杀猪盘” 诈骗(200)_train_100.jsonl'\n",
      "-rw-rw-r-- 1 xiaoguanghua xiaoguanghua  491999 Oct 12 17:48 '“杀猪盘” 诈骗(200)_train_300.jsonl'\n",
      "-rw-rw-r-- 1 xiaoguanghua xiaoguanghua  455843 Oct 12 17:48 '“杀猪盘” 诈骗(200)_train_500.jsonl'\n",
      "-rw-rw-r-- 1 xiaoguanghua xiaoguanghua  453514 Oct 12 17:48 '短信诈骗(200)_train_100.jsonl'\n",
      "-rw-rw-r-- 1 xiaoguanghua xiaoguanghua  319420 Oct 12 17:48 '短信诈骗(200)_train_300.jsonl'\n",
      "-rw-rw-r-- 1 xiaoguanghua xiaoguanghua  295462 Oct 12 17:48 '短信诈骗(200)_train_500.jsonl'\n",
      "-rw-rw-r-- 1 xiaoguanghua xiaoguanghua  497297 Oct 12 17:48 '网络贷款诈骗(162)_train_100.jsonl'\n",
      "-rw-rw-r-- 1 xiaoguanghua xiaoguanghua  341857 Oct 12 17:48 '网络贷款诈骗(162)_train_300.jsonl'\n",
      "-rw-rw-r-- 1 xiaoguanghua xiaoguanghua  315621 Oct 12 17:48 '网络贷款诈骗(162)_train_500.jsonl'\n",
      "-rw-rw-r-- 1 xiaoguanghua xiaoguanghua  519572 Oct 12 17:48 '网络赌博诈骗(200)_train_100.jsonl'\n",
      "-rw-rw-r-- 1 xiaoguanghua xiaoguanghua  366291 Oct 12 17:48 '网络赌博诈骗(200)_train_300.jsonl'\n",
      "-rw-rw-r-- 1 xiaoguanghua xiaoguanghua  339395 Oct 12 17:48 '网络赌博诈骗(200)_train_500.jsonl'\n",
      "-rw-rw-r-- 1 xiaoguanghua xiaoguanghua  717714 Oct 12 17:48 '虚假购物诈骗(200)_train_100.jsonl'\n",
      "-rw-rw-r-- 1 xiaoguanghua xiaoguanghua  495580 Oct 12 17:48 '虚假购物诈骗(200)_train_300.jsonl'\n",
      "-rw-rw-r-- 1 xiaoguanghua xiaoguanghua  458643 Oct 12 17:48 '虚假购物诈骗(200)_train_500.jsonl'\n",
      "-rw-rw-r-- 1 xiaoguanghua xiaoguanghua  578928 Oct 12 17:48 '虚拟货币诈骗(200)_train_100.jsonl'\n",
      "-rw-rw-r-- 1 xiaoguanghua xiaoguanghua  403491 Oct 12 17:48 '虚拟货币诈骗(200)_train_300.jsonl'\n",
      "-rw-rw-r-- 1 xiaoguanghua xiaoguanghua  373905 Oct 12 17:48 '虚拟货币诈骗(200)_train_500.jsonl'\n"
     ]
    }
   ],
   "source": [
    "!ls -l ../dataset/fraud/jsonl"
   ]
  },
  {
   "cell_type": "markdown",
   "metadata": {},
   "source": [
    "## 构造训练/验证/测试集"
   ]
  },
  {
   "cell_type": "markdown",
   "metadata": {},
   "source": [
    "\n",
    "#### 加载数据集\n",
    "加载指定目录下的所有jsonl文件，获得整个dataset，此dataset尚未区分训练集和测试集。"
   ]
  },
  {
   "cell_type": "code",
   "execution_count": 14,
   "metadata": {},
   "outputs": [
    {
     "data": {
      "text/plain": [
       "{'input': '发言人1: 对？那个那老师先先给我们这个我也不太懂。就是你先给我们介绍一下，如果现在是什么样的现状，出现了什么样的问题？谢谢。\\n发言人2: 你好各位好，你刚才说的问题是是哪个？我刚才没有听清楚。',\n",
       " 'label': False,\n",
       " 'fraud_speaker': '',\n",
       " 'instruction': '下面是一段对话文本, 请分析对话内容是否有诈骗风险，只以json格式输出你的判断结果(is_fraud: true/false)。'}"
      ]
     },
     "execution_count": 14,
     "metadata": {},
     "output_type": "execute_result"
    }
   ],
   "source": [
    "def load_jsonl_files(directory):\n",
    "    dataset = []\n",
    "    for filename in os.listdir(directory):\n",
    "        if filename.endswith('.jsonl'):\n",
    "            file_path = os.path.join(directory, filename)\n",
    "            with open(file_path, 'r', encoding='utf-8') as file:\n",
    "                data = [json.loads(line) for line in file]\n",
    "                dataset.extend(data)\n",
    "    return dataset\n",
    "\n",
    "# 设置你的目录路径\n",
    "input_path = \"../dataset/fraud/jsonl\"\n",
    "dataset = load_jsonl_files(input_path)\n",
    "dataset[0]"
   ]
  },
  {
   "cell_type": "markdown",
   "metadata": {},
   "source": [
    "规范化数据集"
   ]
  },
  {
   "cell_type": "code",
   "execution_count": 16,
   "metadata": {},
   "outputs": [
    {
     "data": {
      "text/plain": [
       "{'instruction': '下面是一段对话文本, 请分析对话内容是否有诈骗风险，只以json格式输出你的判断结果(is_fraud: true/false)。',\n",
       " 'input': '客服: 订单中的数量不对，您需要调整好再来一次。\\n刘先生: 怎么还没完成，这次总可以了吧？\\n客服: 亲，我们需要再确认一下您的充值信息，再进行一次吧。',\n",
       " 'label': True}"
      ]
     },
     "execution_count": 16,
     "metadata": {},
     "output_type": "execute_result"
    }
   ],
   "source": [
    "def normalize_record(record):\n",
    "    return {\n",
    "        #\"instruction\": \"你是一个分析诈骗案例的专家，你的任务是分析下面对话内容是否存在经济诈骗(is_fraud:<bool>)，如果存在经济诈骗，请找出正在进行诈骗行为的发言者姓名(fraud_speaker:<str>)，并给出你的分析理由(reason:<str>)，最后以json格式输出。\",\n",
    "        \"instruction\": str(record.get(\"instruction\", \"\")),\n",
    "        \"input\": str(record.get(\"input\", \"\")),\n",
    "        \"label\": bool(record.get(\"label\", False)),\n",
    "        # \"fraud_speaker\": str(record.get(\"fraud_speaker\", \"\")),\n",
    "        # \"reason\": str(record.get(\"reason\", \"\"))\n",
    "    }\n",
    "\n",
    "dataset = [normalize_record(item) for item in dataset]\n",
    "dataset[10000]"
   ]
  },
  {
   "cell_type": "code",
   "execution_count": null,
   "metadata": {},
   "outputs": [],
   "source": [
    "# speaker_none_count = sum(d['fraud_speaker'] == None for d in dataset)\n",
    "# reason_none_count = sum(d['reason'] == None for d in dataset)\n",
    "# speaker_none_count, reason_none_count"
   ]
  },
  {
   "cell_type": "markdown",
   "metadata": {},
   "source": [
    "#### 均衡数据集\n",
    "\n",
    "分别统计数据集中正向标签和反向标签的数量："
   ]
  },
  {
   "cell_type": "code",
   "execution_count": 17,
   "metadata": {},
   "outputs": [
    {
     "name": "stdout",
     "output_type": "stream",
     "text": [
      "true_data: 19538, false_data: 13868\n"
     ]
    }
   ],
   "source": [
    "true_count = sum(d['label'] == True for d in dataset)\n",
    "false_count = sum(d['label'] == False for d in dataset)\n",
    "\n",
    "print(f\"true_data: {true_count}, false_data: {false_count}\")"
   ]
  },
  {
   "cell_type": "markdown",
   "metadata": {},
   "source": [
    "可以看到，目前数据集中的正、反标签的数据比例接近`3:2`，并不均衡。\n",
    "\n",
    "在二分类任务中，正向标签和反向标签之间的数据集均衡是比较重要的，我们有必要采取一些措施来平衡数据集。大概有以下两类方法：\n",
    "1. 过采样少数类：通过生成新的少数类样本使其与多数类样本数量相当。\n",
    "2. 欠采样多数类：减少多数类样本的数量以平衡数据集。\n",
    "\n",
    "为了快速验证，这里暂时采用欠采样多数类，也就是减少正向标签的数量来平衡数据集。\n",
    "\n",
    "> 注：不均衡数据集会带来以下影响：\n",
    "> 1. 模型偏向于预测多数类：如果数据集中某一类别的样本明显多于另一类别，模型在训练时可能会过于偏向于识别多数类，而忽视少数类的特征（即使少数类也很重要）。\n",
    "> 2. 不准确的指标评估：在不均衡的数据集中，模型的准确率可能很高，但这并不表明模型表现良好，因为它可能只是在简单地预测为多数类，这样的模型往往在少数类的召回率指标上表现差。"
   ]
  },
  {
   "cell_type": "code",
   "execution_count": 18,
   "metadata": {},
   "outputs": [],
   "source": [
    "from random import sample\n",
    "\n",
    "def rebalance_dataset(dataset, debug=False):\n",
    "    # 按标签值分割数据集\n",
    "    true_data = [d for d in dataset if d['label'] == True]\n",
    "    false_data = [d for d in dataset if d['label'] == False]\n",
    "    # 欠采样多数类，这里有两种可能：\n",
    "    # 1. 如果true_data > false_data，则以false_data的数量为基准来欠采样true_data，使其与false_data的数量相等.\n",
    "    # 2. 反过来，则以true_data的数量为基准来欠采样false_data，使其与true_data的数量相等。.\n",
    "    if len(true_data) > len(false_data):\n",
    "        true_data = sample(true_data, len(false_data))\n",
    "    else:\n",
    "        false_data = sample(false_data, len(true_data))\n",
    "    print(f\"balanced_true_data: {len(true_data)}, balanced_false_data: {len(false_data)}\") if debug==True else None\n",
    "    return true_data + false_data"
   ]
  },
  {
   "cell_type": "code",
   "execution_count": 19,
   "metadata": {},
   "outputs": [
    {
     "name": "stdout",
     "output_type": "stream",
     "text": [
      "true_data after balance: 13868, false_data after balance: 13868\n"
     ]
    }
   ],
   "source": [
    "balanced_dataset = rebalance_dataset(dataset)\n",
    "true_count = sum(d['label'] == True for d in balanced_dataset)\n",
    "false_count = sum(d['label'] == False for d in balanced_dataset)\n",
    "\n",
    "print(f\"true_data after balance: {true_count}, false_data after balance: {false_count}\")"
   ]
  },
  {
   "cell_type": "markdown",
   "metadata": {},
   "source": [
    "#### 切分数据集\n",
    "定义一个split_dataset函数用于按照指定的比例来分割训练集和测试集。基本实现方法：\n",
    "1. 先使用random.shuffle()将数据打乱顺序，以确保不同长度、不同标签的数据分布更均匀。\n",
    "2. 按照指定比例先切割训练集，剩下的就是测试集。\n",
    "\n",
    "> 注：虽然这里将split_dataset定义为切分训练集和测试集，但理论上它可用于任意目的的数据集切分，例如后面会提到的验证集和测试集切分。"
   ]
  },
  {
   "cell_type": "code",
   "execution_count": 20,
   "metadata": {},
   "outputs": [],
   "source": [
    "import os\n",
    "import json\n",
    "import random\n",
    "\n",
    "def split_dataset(lines, train_ratio=0.8):\n",
    "    random.shuffle(lines)\n",
    "    split_index = int(len(lines) * train_ratio)\n",
    "    train_data = lines[:split_index]\n",
    "    test_data = lines[split_index:]\n",
    "    return train_data, test_data"
   ]
  },
  {
   "cell_type": "markdown",
   "metadata": {},
   "source": [
    "最后，定义一个总的方法make_train_eval_test，来完成训练集、验证集、测试集的构造。切分比例如下：\n",
    "1. 训练集默认为0.8，支持传参调整。\n",
    "2. 验证集和测试集比例先固定1:1，平分除训练集以外剩下的部分。"
   ]
  },
  {
   "cell_type": "code",
   "execution_count": 21,
   "metadata": {},
   "outputs": [
    {
     "data": {
      "text/plain": [
       "(22188, 2774, 2774)"
      ]
     },
     "execution_count": 21,
     "metadata": {},
     "output_type": "execute_result"
    }
   ],
   "source": [
    "def make_train_eval_test(dataset, train_ratio=0.8):\n",
    "    train_data, temp_data = split_dataset(dataset, train_ratio)\n",
    "    eval_data, test_data = split_dataset(temp_data, 0.5)\n",
    "    return train_data, eval_data, test_data\n",
    "\n",
    "train_data, eval_data, test_data = make_train_eval_test(balanced_dataset, train_ratio=0.8)\n",
    "len(train_data), len(eval_data), len(test_data)"
   ]
  },
  {
   "cell_type": "markdown",
   "metadata": {},
   "source": [
    "#### 保存数据集\n",
    "\n",
    "分别保存训练集和测试集数据。"
   ]
  },
  {
   "cell_type": "code",
   "execution_count": 22,
   "metadata": {},
   "outputs": [],
   "source": [
    "def save_data(dataset, file_path):\n",
    "    df = pd.DataFrame(dataset)\n",
    "    df.to_json(file_path, orient=\"records\", lines=True, force_ascii=False)"
   ]
  },
  {
   "cell_type": "code",
   "execution_count": 23,
   "metadata": {},
   "outputs": [],
   "source": [
    "\n",
    "output_path = \"../dataset/fraud/train_test\"\n",
    "os.makedirs(output_path, exist_ok=True)\n",
    "\n",
    "save_data(train_data, os.path.join(output_path, 'train0902.jsonl'))\n",
    "save_data(eval_data, os.path.join(output_path, 'eval0902.jsonl'))\n",
    "save_data(test_data, os.path.join(output_path, 'test0902.jsonl'))"
   ]
  },
  {
   "cell_type": "markdown",
   "metadata": {},
   "source": [
    "使用pandas的read_json函数预览下生成的数据：\n",
    "> 注：指定lines=True可以支持jsonl格式。"
   ]
  },
  {
   "cell_type": "code",
   "execution_count": 24,
   "metadata": {},
   "outputs": [
    {
     "data": {
      "text/html": [
       "<div>\n",
       "<style scoped>\n",
       "    .dataframe tbody tr th:only-of-type {\n",
       "        vertical-align: middle;\n",
       "    }\n",
       "\n",
       "    .dataframe tbody tr th {\n",
       "        vertical-align: top;\n",
       "    }\n",
       "\n",
       "    .dataframe thead th {\n",
       "        text-align: right;\n",
       "    }\n",
       "</style>\n",
       "<table border=\"1\" class=\"dataframe\">\n",
       "  <thead>\n",
       "    <tr style=\"text-align: right;\">\n",
       "      <th></th>\n",
       "      <th>instruction</th>\n",
       "      <th>input</th>\n",
       "      <th>label</th>\n",
       "    </tr>\n",
       "  </thead>\n",
       "  <tbody>\n",
       "    <tr>\n",
       "      <th>0</th>\n",
       "      <td>下面是一段对话文本, 请分析对话内容是否有诈骗风险，只以json格式输出你的判断结果(is_...</td>\n",
       "      <td>发言人3: 但是如果把它归在经济型范畴，我们这样看的话，其实它的整个价格，包括数据其实恢复度...</td>\n",
       "      <td>False</td>\n",
       "    </tr>\n",
       "    <tr>\n",
       "      <th>1</th>\n",
       "      <td>下面是一段对话文本, 请分析对话内容是否有诈骗风险，只以json格式输出你的判断结果(is_...</td>\n",
       "      <td>发言人4: 然后第二个车企其实现在还在想进一步去降价，尤其是今年大家都知道的确实是to c端...</td>\n",
       "      <td>False</td>\n",
       "    </tr>\n",
       "    <tr>\n",
       "      <th>2</th>\n",
       "      <td>下面是一段对话文本, 请分析对话内容是否有诈骗风险，只以json格式输出你的判断结果(is_...</td>\n",
       "      <td>发言人4: 这样子我我留一个我留一个小的关子，就是把天水这个事情放后面讲。前面我先分享一下几...</td>\n",
       "      <td>False</td>\n",
       "    </tr>\n",
       "    <tr>\n",
       "      <th>3</th>\n",
       "      <td>下面是一段对话文本, 请分析对话内容是否有诈骗风险，只以json格式输出你的判断结果(is_...</td>\n",
       "      <td>发言人2: 工作坊呢和小班课其实您就理解为有一个是有画布的，小班课呢就是没画布的，只是沟通的...</td>\n",
       "      <td>False</td>\n",
       "    </tr>\n",
       "    <tr>\n",
       "      <th>4</th>\n",
       "      <td>下面是一段对话文本, 请分析对话内容是否有诈骗风险，只以json格式输出你的判断结果(is_...</td>\n",
       "      <td>发言人11: 到去年年底的话，以现在以去年年底的一个水平，整个月产能理论产能已经达到30万了...</td>\n",
       "      <td>False</td>\n",
       "    </tr>\n",
       "  </tbody>\n",
       "</table>\n",
       "</div>"
      ],
      "text/plain": [
       "                                         instruction  \\\n",
       "0  下面是一段对话文本, 请分析对话内容是否有诈骗风险，只以json格式输出你的判断结果(is_...   \n",
       "1  下面是一段对话文本, 请分析对话内容是否有诈骗风险，只以json格式输出你的判断结果(is_...   \n",
       "2  下面是一段对话文本, 请分析对话内容是否有诈骗风险，只以json格式输出你的判断结果(is_...   \n",
       "3  下面是一段对话文本, 请分析对话内容是否有诈骗风险，只以json格式输出你的判断结果(is_...   \n",
       "4  下面是一段对话文本, 请分析对话内容是否有诈骗风险，只以json格式输出你的判断结果(is_...   \n",
       "\n",
       "                                               input  label  \n",
       "0  发言人3: 但是如果把它归在经济型范畴，我们这样看的话，其实它的整个价格，包括数据其实恢复度...  False  \n",
       "1  发言人4: 然后第二个车企其实现在还在想进一步去降价，尤其是今年大家都知道的确实是to c端...  False  \n",
       "2  发言人4: 这样子我我留一个我留一个小的关子，就是把天水这个事情放后面讲。前面我先分享一下几...  False  \n",
       "3  发言人2: 工作坊呢和小班课其实您就理解为有一个是有画布的，小班课呢就是没画布的，只是沟通的...  False  \n",
       "4  发言人11: 到去年年底的话，以现在以去年年底的一个水平，整个月产能理论产能已经达到30万了...  False  "
      ]
     },
     "execution_count": 24,
     "metadata": {},
     "output_type": "execute_result"
    }
   ],
   "source": [
    "pd.read_json(os.path.join(output_path, 'train0902.jsonl'), lines=True).head()"
   ]
  },
  {
   "cell_type": "markdown",
   "metadata": {},
   "source": [
    "**小结**：本文按100、300、500分别构造了不同长度的对话上下文，又通过欠采样来平衡正、负标签数据，最终对平衡后的数据作切分，得到了训练集和测试集。"
   ]
  },
  {
   "cell_type": "markdown",
   "metadata": {},
   "source": [
    "## 相关阅读\n",
    "- [欺诈文本分类微调（二）：生成正向数据集](https://golfxiao.blog.csdn.net/article/details/141274990)\n",
    "- [欺诈文本分类微调（三）：生成反向数据集](https://golfxiao.blog.csdn.net/article/details/141301705)"
   ]
  }
 ],
 "metadata": {
  "kernelspec": {
   "display_name": "Python 3 (ipykernel)",
   "language": "python",
   "name": "python3"
  },
  "language_info": {
   "codemirror_mode": {
    "name": "ipython",
    "version": 3
   },
   "file_extension": ".py",
   "mimetype": "text/x-python",
   "name": "python",
   "nbconvert_exporter": "python",
   "pygments_lexer": "ipython3",
   "version": "3.10.14"
  }
 },
 "nbformat": 4,
 "nbformat_minor": 4
}
